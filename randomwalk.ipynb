{
 "cells": [
  {
   "cell_type": "code",
   "execution_count": 1,
   "metadata": {
    "collapsed": true
   },
   "outputs": [],
   "source": [
    "from __future__ import print_function\n",
    "import sys\n",
    "from spotify_client import SpotifyClient\n",
    "sys.path.append('../gexf')\n",
    "#from gexf import Gexf, GexfImport\n",
    "import networkx as nx\n",
    "import numpy as np\n",
    "import time\n",
    "from random import randint\n",
    "import json\n",
    "import pandas as pd\n"
   ]
  },
  {
   "cell_type": "code",
   "execution_count": 2,
   "metadata": {
    "collapsed": true
   },
   "outputs": [],
   "source": [
    "labels=['artistId','name', 'relatedArtists', 'followers', 'popularity','genres']\n",
    "artist_df = pd.DataFrame.from_records([], columns=labels)\n",
    "#artist_df.head()"
   ]
  },
  {
   "cell_type": "code",
   "execution_count": 3,
   "metadata": {
    "collapsed": true
   },
   "outputs": [],
   "source": [
    "################################\n",
    "# general variables\n",
    "################################\n",
    "jumping_probability = 0.80\n",
    "\n",
    "################################\n",
    "class ArtistGraph():\n",
    "    def __init__(self):\n",
    "        self.sc = SpotifyClient()\n",
    "        self.graph_nx = nx.DiGraph() #networkx graph for storing data\n",
    "        #self.gexf = Gexf(\"creator_name\",\"music graph\") #gexf graph format for plotting\n",
    "        #self.graph_gexf = self.gexf.addGraph(\"directed\",\"unweighted\",\"time\")\n",
    "    \n",
    "   \n",
    "    def pick_next_artist(self,previous_artist):\n",
    "\n",
    "             \n",
    "        related_artist_list = previous_artist.related\n",
    "        probability_pick = np.random.random()\n",
    "        \n",
    "        if probability_pick < jumping_probability:\n",
    "            next_artist = np.random.choice(related_artist_list)\n",
    "        else:\n",
    "            next_artist= np.random.choice(initial_artist_list)\n",
    "            \n",
    "        return next_artist\n",
    "\n",
    "    def walk_for_seed(self, seed_artist):\n",
    "        global artist_df,artist_list\n",
    "        G = self.graph_nx #create an ampty graph       \n",
    "        start_time = time.time()\n",
    "        previous_artist= ag.sc.get_artist_by_id(seed_artist)\n",
    "        #artist_list=[] \n",
    "        i=0\n",
    "                        \n",
    "        while (len(artist_df) < 120):\n",
    "            try:\n",
    "                #print(\"seed_artist\")\n",
    "                if previous_artist.id not in artist_list:\n",
    "                #if previous_artist.name not in artist_df['name']:\n",
    "                    G.add_node(previous_artist.id , label = previous_artist.name)\n",
    "                    artist_list.append(previous_artist.id)\n",
    "                    artist_df=artist_df.append([{\"artistId\":previous_artist.id,\"name\":previous_artist.name,\n",
    "                            \"relatedArtists\":previous_artist.related,\"followers\":previous_artist.followers,\n",
    "                                                 \"popularity\":previous_artist.popularity,\"genres\":previous_artist.genres}], ignore_index=True)\n",
    "                \n",
    "                    #print(\"previous:\",previous_artist.name)\n",
    "                    \n",
    "                next_artist_id = self.pick_next_artist(previous_artist)\n",
    "                next_artist= self.sc.get_artist_by_id(next_artist_id)\n",
    "                #G.add_node(next_artist.id , label = next_artist.name)\n",
    "                \n",
    "                #artist_list.append(next_artist.id)\n",
    "                #print(\"next:\",next_artist.name)\n",
    "                if next_artist_id in previous_artist.related:\n",
    "                    G.add_edge(previous_artist.id,next_artist.id , label= previous_artist.name+'-'+next_artist.name)\n",
    "                previous_artist= next_artist  \n",
    "                \n",
    "                #break             \n",
    "                       \n",
    "                #print(\"artist in list:\",len(artist_list))                        \n",
    "                \n",
    "                \n",
    "            except ValueError:\n",
    "                print(\"error happened!\")\n",
    "                #break\n",
    "            i=i+1          \n",
    "            if i%50 ==0:\n",
    "                print(artist_df.shape)\n",
    "                print(int(time.time() - start_time))               \n",
    "                time.sleep(10)\n",
    "                \n",
    "        \n",
    "          \n",
    "        nx.write_gexf(G, \"rw.gexf\") \n",
    "        print(\"num of nodes:\",len(G))\n",
    "        print(\"num od edges:\",G.number_of_edges())\n",
    "        with open('artists_list.txt', 'w') as f:\n",
    "            for artist in artist_list:\n",
    "                f.write(artist + '\\n')\n",
    "        \n",
    "    \n",
    "        \n",
    "        \n",
    "       \n",
    "    \n",
    "\n",
    "\n",
    "\n",
    "    \n",
    "\n",
    "    \n"
   ]
  },
  {
   "cell_type": "code",
   "execution_count": 4,
   "metadata": {},
   "outputs": [
    {
     "name": "stdout",
     "output_type": "stream",
     "text": [
      "(38, 6)\n",
      "14\n",
      "(61, 6)\n",
      "39\n",
      "(74, 6)\n",
      "63\n",
      "(87, 6)\n",
      "88\n",
      "(102, 6)\n",
      "111\n",
      "(110, 6)\n",
      "135\n",
      "num of nodes: 121\n",
      "num od edges: 203\n"
     ]
    }
   ],
   "source": [
    "\n",
    "ag = ArtistGraph()\n",
    "artist_list = [] #the artist that we crawl \n",
    "with open('seed_id.txt') as f:\n",
    "    initial_artist_list = f.read().splitlines()   \n",
    "  \n",
    "    \n",
    "r=randint(1, 70)\n",
    "start_artist = initial_artist_list[r-1]  \n",
    "    \n",
    "    #seed_artist = ag.sc.get_artist_by_id(start_artist)    \n",
    "    \n",
    "ag.walk_for_seed(start_artist)\n",
    "       \n",
    "        "
   ]
  },
  {
   "cell_type": "code",
   "execution_count": 5,
   "metadata": {},
   "outputs": [
    {
     "data": {
      "text/html": [
       "<div>\n",
       "<style>\n",
       "    .dataframe thead tr:only-child th {\n",
       "        text-align: right;\n",
       "    }\n",
       "\n",
       "    .dataframe thead th {\n",
       "        text-align: left;\n",
       "    }\n",
       "\n",
       "    .dataframe tbody tr th {\n",
       "        vertical-align: top;\n",
       "    }\n",
       "</style>\n",
       "<table border=\"1\" class=\"dataframe\">\n",
       "  <thead>\n",
       "    <tr style=\"text-align: right;\">\n",
       "      <th></th>\n",
       "      <th>artistId</th>\n",
       "      <th>name</th>\n",
       "      <th>relatedArtists</th>\n",
       "      <th>followers</th>\n",
       "      <th>popularity</th>\n",
       "      <th>genres</th>\n",
       "    </tr>\n",
       "  </thead>\n",
       "  <tbody>\n",
       "    <tr>\n",
       "      <th>0</th>\n",
       "      <td>1doxtFN19fZFut0UYCuf8c</td>\n",
       "      <td>Mehdi Jahani</td>\n",
       "      <td>[0Ivc48Y30tpafzyoi2U4OJ, 3ik1ITmfyz6tnIgodqEHl...</td>\n",
       "      <td>2168</td>\n",
       "      <td>33</td>\n",
       "      <td>[persian pop]</td>\n",
       "    </tr>\n",
       "    <tr>\n",
       "      <th>1</th>\n",
       "      <td>0RijxlHRlHCt8hYWPclQRJ</td>\n",
       "      <td>Puzzle Band</td>\n",
       "      <td>[3lDvSMuYmhBK4KhJ9Bryak, 0Ivc48Y30tpafzyoi2U4O...</td>\n",
       "      <td>4718</td>\n",
       "      <td>35</td>\n",
       "      <td>[persian pop]</td>\n",
       "    </tr>\n",
       "    <tr>\n",
       "      <th>2</th>\n",
       "      <td>0Ivc48Y30tpafzyoi2U4OJ</td>\n",
       "      <td>Hoorosh Band</td>\n",
       "      <td>[3lDvSMuYmhBK4KhJ9Bryak, 72YzRGDNjyHcUMLtsmJgK...</td>\n",
       "      <td>4367</td>\n",
       "      <td>34</td>\n",
       "      <td>[persian pop]</td>\n",
       "    </tr>\n",
       "    <tr>\n",
       "      <th>3</th>\n",
       "      <td>1IlwO4YlID1tcb5QgWOiQu</td>\n",
       "      <td>Hamid Hiraad</td>\n",
       "      <td>[0Ivc48Y30tpafzyoi2U4OJ, 3lDvSMuYmhBK4KhJ9Brya...</td>\n",
       "      <td>6275</td>\n",
       "      <td>39</td>\n",
       "      <td>[persian pop]</td>\n",
       "    </tr>\n",
       "    <tr>\n",
       "      <th>4</th>\n",
       "      <td>1XLGWRdWbnYF5WrI8Kli4m</td>\n",
       "      <td>Hamed Homayoun</td>\n",
       "      <td>[3lDvSMuYmhBK4KhJ9Bryak, 3ik1ITmfyz6tnIgodqEHl...</td>\n",
       "      <td>9423</td>\n",
       "      <td>38</td>\n",
       "      <td>[persian pop]</td>\n",
       "    </tr>\n",
       "  </tbody>\n",
       "</table>\n",
       "</div>"
      ],
      "text/plain": [
       "                 artistId            name  \\\n",
       "0  1doxtFN19fZFut0UYCuf8c    Mehdi Jahani   \n",
       "1  0RijxlHRlHCt8hYWPclQRJ     Puzzle Band   \n",
       "2  0Ivc48Y30tpafzyoi2U4OJ    Hoorosh Band   \n",
       "3  1IlwO4YlID1tcb5QgWOiQu    Hamid Hiraad   \n",
       "4  1XLGWRdWbnYF5WrI8Kli4m  Hamed Homayoun   \n",
       "\n",
       "                                      relatedArtists followers popularity  \\\n",
       "0  [0Ivc48Y30tpafzyoi2U4OJ, 3ik1ITmfyz6tnIgodqEHl...      2168         33   \n",
       "1  [3lDvSMuYmhBK4KhJ9Bryak, 0Ivc48Y30tpafzyoi2U4O...      4718         35   \n",
       "2  [3lDvSMuYmhBK4KhJ9Bryak, 72YzRGDNjyHcUMLtsmJgK...      4367         34   \n",
       "3  [0Ivc48Y30tpafzyoi2U4OJ, 3lDvSMuYmhBK4KhJ9Brya...      6275         39   \n",
       "4  [3lDvSMuYmhBK4KhJ9Bryak, 3ik1ITmfyz6tnIgodqEHl...      9423         38   \n",
       "\n",
       "          genres  \n",
       "0  [persian pop]  \n",
       "1  [persian pop]  \n",
       "2  [persian pop]  \n",
       "3  [persian pop]  \n",
       "4  [persian pop]  "
      ]
     },
     "execution_count": 5,
     "metadata": {},
     "output_type": "execute_result"
    }
   ],
   "source": [
    "artist_df.head()"
   ]
  },
  {
   "cell_type": "code",
   "execution_count": 6,
   "metadata": {},
   "outputs": [
    {
     "data": {
      "text/plain": [
       "(120, 6)"
      ]
     },
     "execution_count": 6,
     "metadata": {},
     "output_type": "execute_result"
    }
   ],
   "source": [
    "artist_df.shape"
   ]
  },
  {
   "cell_type": "code",
   "execution_count": 7,
   "metadata": {
    "collapsed": true
   },
   "outputs": [],
   "source": [
    "artist_df.to_csv(\"artists_df.csv\")"
   ]
  },
  {
   "cell_type": "code",
   "execution_count": 8,
   "metadata": {},
   "outputs": [
    {
     "name": "stdout",
     "output_type": "stream",
     "text": [
      "120\n"
     ]
    }
   ],
   "source": [
    "print(len(artist_list))"
   ]
  },
  {
   "cell_type": "code",
   "execution_count": null,
   "metadata": {
    "collapsed": true
   },
   "outputs": [],
   "source": []
  }
 ],
 "metadata": {
  "kernelspec": {
   "display_name": "Python 3",
   "language": "python",
   "name": "python3"
  },
  "language_info": {
   "codemirror_mode": {
    "name": "ipython",
    "version": 3
   },
   "file_extension": ".py",
   "mimetype": "text/x-python",
   "name": "python",
   "nbconvert_exporter": "python",
   "pygments_lexer": "ipython3",
   "version": "3.6.3"
  }
 },
 "nbformat": 4,
 "nbformat_minor": 2
}
