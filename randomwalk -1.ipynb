{
 "cells": [
  {
   "cell_type": "code",
   "execution_count": 1,
   "metadata": {
    "collapsed": true
   },
   "outputs": [],
   "source": [
    "from __future__ import print_function\n",
    "import sys\n",
    "from spotify_client import SpotifyClient\n",
    "sys.path.append('../gexf')\n",
    "#from gexf import Gexf, GexfImport\n",
    "import networkx as nx\n",
    "import numpy as np\n",
    "import time\n",
    "from random import randint\n",
    "import json\n",
    "import pandas as pd\n"
   ]
  },
  {
   "cell_type": "markdown",
   "metadata": {
    "collapsed": true
   },
   "source": [
    "labels=['artistId','name', 'relatedArtists', 'followers', 'popularity','genres']\n",
    "artist_df = pd.DataFrame.from_records([], columns=labels)\n",
    "#artist_df.head()"
   ]
  },
  {
   "cell_type": "code",
   "execution_count": 2,
   "metadata": {},
   "outputs": [
    {
     "name": "stdout",
     "output_type": "stream",
     "text": [
      "200\n"
     ]
    }
   ],
   "source": [
    "ag1=nx.read_gexf(\"rw1.gexf\")\n",
    "print(len(ag1))\n",
    "artist_df= pd.read_csv(\"artists_df1.csv\",index_col=0)\n",
    "with open('artists_list1.txt') as f:\n",
    "    artist_list = f.read().splitlines() \n"
   ]
  },
  {
   "cell_type": "code",
   "execution_count": 3,
   "metadata": {},
   "outputs": [
    {
     "data": {
      "text/plain": [
       "198"
      ]
     },
     "execution_count": 3,
     "metadata": {},
     "output_type": "execute_result"
    }
   ],
   "source": [
    "len(artist_list)"
   ]
  },
  {
   "cell_type": "code",
   "execution_count": 4,
   "metadata": {
    "collapsed": true
   },
   "outputs": [],
   "source": [
    "################################\n",
    "# general variables\n",
    "################################\n",
    "jumping_probability = 0.80\n",
    "\n",
    "################################\n",
    "class ArtistGraph():\n",
    "    def __init__(self):\n",
    "        self.sc = SpotifyClient()\n",
    "        self.graph_nx = nx.DiGraph() #networkx graph for storing data\n",
    "        #self.gexf = Gexf(\"creator_name\",\"music graph\") #gexf graph format for plotting\n",
    "        #self.graph_gexf = self.gexf.addGraph(\"directed\",\"unweighted\",\"time\")\n",
    "    \n",
    "   \n",
    "    def pick_next_artist(self,previous_artist):\n",
    "\n",
    "             \n",
    "        related_artist_list = previous_artist.related\n",
    "        probability_pick = np.random.random()\n",
    "        \n",
    "        if probability_pick < jumping_probability:\n",
    "            next_artist = np.random.choice(related_artist_list)\n",
    "        else:\n",
    "            next_artist= np.random.choice(initial_artist_list)\n",
    "            \n",
    "        return next_artist\n",
    "\n",
    "    def walk_for_seed(self, seed_artist, graph):\n",
    "        global artist_df,artist_list\n",
    "        \n",
    "       \n",
    "        #G = self.graph_nx #create an ampty graph  \n",
    "        G = graph\n",
    "        start_time = time.time()\n",
    "        previous_artist= ag.sc.get_artist_by_id(seed_artist)\n",
    "        #artist_list=[] \n",
    "        i=0\n",
    "                        \n",
    "        while (len(artist_df) < 200):\n",
    "            try:\n",
    "                #print(\"seed_artist\")\n",
    "                if previous_artist.id not in artist_list:\n",
    "                #if previous_artist.id not in artist_df['artistId']:\n",
    "                    G.add_node(previous_artist.id , label = previous_artist.name)\n",
    "                    artist_list.append(previous_artist.id)\n",
    "                    artist_df=artist_df.append([{\"artistId\":previous_artist.id,\"name\":previous_artist.name,\n",
    "                            \"relatedArtists\":previous_artist.related,\"followers\":previous_artist.followers,\n",
    "                                                 \"popularity\":previous_artist.popularity,\"genres\":previous_artist.genres}], ignore_index=True)\n",
    "                                   \n",
    "                next_artist_id = self.pick_next_artist(previous_artist)\n",
    "                next_artist= self.sc.get_artist_by_id(next_artist_id)\n",
    "                if next_artist_id in previous_artist.related:\n",
    "                    G.add_edge(previous_artist.id,next_artist.id , label= previous_artist.name+'-'+next_artist.name)\n",
    "                previous_artist= next_artist                \n",
    "            except ValueError:\n",
    "                print(\"error happened!\")\n",
    "                #break\n",
    "            i=i+1          \n",
    "            if i%50 ==0:\n",
    "                print(artist_df.shape)\n",
    "                print(int(time.time() - start_time))               \n",
    "                time.sleep(10)            \n",
    "         \n",
    "        nx.write_gexf(G, \"rw1.gexf\")    \n",
    "        print(\"num of nodes:\",len(G))\n",
    "        print(\"num od edges:\",G.number_of_edges())\n",
    "        with open('artists_list1.txt', 'w') as f:\n",
    "            for artist in artist_list:\n",
    "                f.write(artist + '\\n')\n",
    "        \n",
    "        \n",
    "    \n",
    "        \n",
    "        \n",
    "       \n",
    "    \n",
    "\n",
    "\n",
    "\n",
    "    \n",
    "\n",
    "    \n"
   ]
  },
  {
   "cell_type": "code",
   "execution_count": 5,
   "metadata": {},
   "outputs": [
    {
     "name": "stdout",
     "output_type": "stream",
     "text": [
      "error happened!\n",
      "error happened!\n",
      "error happened!\n",
      "error happened!\n",
      "(198, 6)\n",
      "20\n",
      "error happened!\n",
      "error happened!\n",
      "error happened!\n",
      "error happened!\n",
      "error happened!\n",
      "error happened!\n",
      "error happened!\n",
      "error happened!\n",
      "error happened!\n",
      "error happened!\n",
      "error happened!\n",
      "error happened!\n",
      "error happened!\n",
      "error happened!\n",
      "(198, 6)\n",
      "44\n",
      "(199, 6)\n",
      "75\n",
      "num of nodes: 202\n",
      "num od edges: 773\n"
     ]
    }
   ],
   "source": [
    "\n",
    "#print(artist_df.head())\n",
    "ag = ArtistGraph()\n",
    "\n",
    "with open('seed_id.txt') as f:\n",
    "    initial_artist_list = f.read().splitlines()   \n",
    "  \n",
    "    \n",
    "r=randint(1, 70)\n",
    "start_artist = initial_artist_list[r-1]     \n",
    "  \n",
    "    \n",
    "ag.walk_for_seed(start_artist, ag1)\n",
    "       \n",
    "        "
   ]
  },
  {
   "cell_type": "code",
   "execution_count": 6,
   "metadata": {},
   "outputs": [
    {
     "data": {
      "text/html": [
       "<div>\n",
       "<style>\n",
       "    .dataframe thead tr:only-child th {\n",
       "        text-align: right;\n",
       "    }\n",
       "\n",
       "    .dataframe thead th {\n",
       "        text-align: left;\n",
       "    }\n",
       "\n",
       "    .dataframe tbody tr th {\n",
       "        vertical-align: top;\n",
       "    }\n",
       "</style>\n",
       "<table border=\"1\" class=\"dataframe\">\n",
       "  <thead>\n",
       "    <tr style=\"text-align: right;\">\n",
       "      <th></th>\n",
       "      <th>artistId</th>\n",
       "      <th>name</th>\n",
       "      <th>relatedArtists</th>\n",
       "      <th>followers</th>\n",
       "      <th>popularity</th>\n",
       "      <th>genres</th>\n",
       "    </tr>\n",
       "  </thead>\n",
       "  <tbody>\n",
       "    <tr>\n",
       "      <th>0</th>\n",
       "      <td>1FEABcMZtFitRlvH8V0UJI</td>\n",
       "      <td>Aref</td>\n",
       "      <td>['5b1CDxqOGnXr5M1DUn2XQh', '5vGVXwtTLpfUyOxX5n...</td>\n",
       "      <td>6560</td>\n",
       "      <td>29</td>\n",
       "      <td>['classic persian pop']</td>\n",
       "    </tr>\n",
       "    <tr>\n",
       "      <th>1</th>\n",
       "      <td>4NdEcxTgFXf083ttLRBZOE</td>\n",
       "      <td>Bijan Mortazavi</td>\n",
       "      <td>['5b1CDxqOGnXr5M1DUn2XQh', '2jvB5M73tBZlWybPmx...</td>\n",
       "      <td>5323</td>\n",
       "      <td>27</td>\n",
       "      <td>['classic persian pop']</td>\n",
       "    </tr>\n",
       "    <tr>\n",
       "      <th>2</th>\n",
       "      <td>2jvB5M73tBZlWybPmxIaw7</td>\n",
       "      <td>Dariush</td>\n",
       "      <td>['5b1CDxqOGnXr5M1DUn2XQh', '5WCHc16VvzVCmBKH70...</td>\n",
       "      <td>21090</td>\n",
       "      <td>36</td>\n",
       "      <td>['classic persian pop']</td>\n",
       "    </tr>\n",
       "    <tr>\n",
       "      <th>3</th>\n",
       "      <td>5b1CDxqOGnXr5M1DUn2XQh</td>\n",
       "      <td>Hayedeh</td>\n",
       "      <td>['2jvB5M73tBZlWybPmxIaw7', '1FEABcMZtFitRlvH8V...</td>\n",
       "      <td>21280</td>\n",
       "      <td>37</td>\n",
       "      <td>['classic persian pop']</td>\n",
       "    </tr>\n",
       "    <tr>\n",
       "      <th>4</th>\n",
       "      <td>3pI1XXzzKOYdYCLWurc2Ky</td>\n",
       "      <td>Ebi</td>\n",
       "      <td>['5b1CDxqOGnXr5M1DUn2XQh', '2jvB5M73tBZlWybPmx...</td>\n",
       "      <td>35235</td>\n",
       "      <td>39</td>\n",
       "      <td>['classic persian pop']</td>\n",
       "    </tr>\n",
       "  </tbody>\n",
       "</table>\n",
       "</div>"
      ],
      "text/plain": [
       "                 artistId             name  \\\n",
       "0  1FEABcMZtFitRlvH8V0UJI             Aref   \n",
       "1  4NdEcxTgFXf083ttLRBZOE  Bijan Mortazavi   \n",
       "2  2jvB5M73tBZlWybPmxIaw7          Dariush   \n",
       "3  5b1CDxqOGnXr5M1DUn2XQh          Hayedeh   \n",
       "4  3pI1XXzzKOYdYCLWurc2Ky              Ebi   \n",
       "\n",
       "                                      relatedArtists  followers  popularity  \\\n",
       "0  ['5b1CDxqOGnXr5M1DUn2XQh', '5vGVXwtTLpfUyOxX5n...       6560          29   \n",
       "1  ['5b1CDxqOGnXr5M1DUn2XQh', '2jvB5M73tBZlWybPmx...       5323          27   \n",
       "2  ['5b1CDxqOGnXr5M1DUn2XQh', '5WCHc16VvzVCmBKH70...      21090          36   \n",
       "3  ['2jvB5M73tBZlWybPmxIaw7', '1FEABcMZtFitRlvH8V...      21280          37   \n",
       "4  ['5b1CDxqOGnXr5M1DUn2XQh', '2jvB5M73tBZlWybPmx...      35235          39   \n",
       "\n",
       "                    genres  \n",
       "0  ['classic persian pop']  \n",
       "1  ['classic persian pop']  \n",
       "2  ['classic persian pop']  \n",
       "3  ['classic persian pop']  \n",
       "4  ['classic persian pop']  "
      ]
     },
     "execution_count": 6,
     "metadata": {},
     "output_type": "execute_result"
    }
   ],
   "source": [
    "artist_df.head()"
   ]
  },
  {
   "cell_type": "code",
   "execution_count": 7,
   "metadata": {},
   "outputs": [
    {
     "data": {
      "text/plain": [
       "(200, 6)"
      ]
     },
     "execution_count": 7,
     "metadata": {},
     "output_type": "execute_result"
    }
   ],
   "source": [
    "artist_df.shape"
   ]
  },
  {
   "cell_type": "code",
   "execution_count": 8,
   "metadata": {
    "collapsed": true
   },
   "outputs": [],
   "source": [
    "artist_df.to_csv(\"artists_df1.csv\")"
   ]
  },
  {
   "cell_type": "code",
   "execution_count": null,
   "metadata": {
    "collapsed": true
   },
   "outputs": [],
   "source": []
  }
 ],
 "metadata": {
  "kernelspec": {
   "display_name": "Python 3",
   "language": "python",
   "name": "python3"
  },
  "language_info": {
   "codemirror_mode": {
    "name": "ipython",
    "version": 3
   },
   "file_extension": ".py",
   "mimetype": "text/x-python",
   "name": "python",
   "nbconvert_exporter": "python",
   "pygments_lexer": "ipython3",
   "version": "3.6.3"
  }
 },
 "nbformat": 4,
 "nbformat_minor": 2
}
